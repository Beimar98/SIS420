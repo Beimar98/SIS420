{
  "cells": [
    {
      "cell_type": "markdown",
      "source": [
        "#Universitario: Ceron Beimar Miguel\n",
        "#Carrera: Ingenieria de Sistemas\n",
        "#Datashet: Conjunto de datos del juego Poker\thttps://www.kaggle.com/datasets/hosseinah1/poker-game-dataset\n",
        "#Datashet usado es poker-hand-testing.csv\n",
        "# Repositorio GITHub:\n",
        "# https://github.com/Beimar98/SIS420 "
      ],
      "metadata": {
        "id": "lgA4yFDP4lnI"
      }
    },
    {
      "cell_type": "markdown",
      "source": [
        "Información de atributos:\n",
        "Variables \"X\":\n",
        "1) S1 “Palo de la carta n.° 1”\n",
        "ordinal (1-4) que representa {Corazones, Picas, Diamantes, Tréboles}\n",
        "\n",
        "2) C1 “Rank of card #1”\n",
        "Numérico (1-13) que representa (As, 2, 3, … , Queen, King)\n",
        "\n",
        "3) S2 “Palo de la carta #2”\n",
        "Ordinal (1-4) que representa {Corazones, Picas, Diamantes, Tréboles}\n",
        "\n",
        "4) C2 “Rank of card #2”\n",
        "Numérico (1-13) que representa (As, 2, 3, … , Queen, King)\n",
        "\n",
        "5) S3 “Palo de la carta #3”\n",
        "Ordinal (1-4) que representa {Corazones, Picas, Diamantes, Tréboles}\n",
        "\n",
        "6) C3 “Rank of card #3”\n",
        "Numérico (1-13) que representa (As, 2, 3, … , Queen, King)\n",
        "\n",
        "7) S4 “Palo de la carta #4”\n",
        "Ordinal (1-4) que representa {Corazones, Picas, Diamantes, Tréboles}\n",
        "\n",
        "8) C4 “Rank of card #4”\n",
        "Numérico (1-13) que representa (As, 2, 3, … , Queen, King)\n",
        "\n",
        "9) S5 “Palo de la carta #5”\n",
        "Ordinal (1-4) que representa {Corazones, Picas, Diamantes, Tréboles}\n",
        "\n",
        "10) C5 “Rank of card 5”\n",
        "Numérico (1-13) que representa (As, 2, 3, … , Queen, King)\n",
        "\n",
        "Variables \"Y\":\n",
        "11) CLASE “Mano de Poker”\n",
        "Ordinal Tipos(0-9)\n",
        "\n",
        "0: Nada en la mano; no es una mano de póquer reconocida\n",
        "1: Un par; un par de rangos iguales dentro de cinco cartas\n",
        "2: dos pares; dos pares de rangos iguales dentro de cinco cartas\n",
        "3: Trío; tres rangos iguales dentro de cinco cartas\n",
        "4: Escalera; cinco cartas, clasificadas secuencialmente sin espacios\n",
        "5: Color; cinco cartas del mismo palo\n",
        "6: Full; par + rango diferente tres de una clase\n",
        "7: Cuatro de una clase; cuatro rangos iguales dentro de cinco cartas\n",
        "8: Escalera de color; escalera + color o tambien valores de atributos faltantes: ninguno\n",
        "9: escalera real; {As, Rey, Reina, Jota, Diez} + color\n"
      ],
      "metadata": {
        "id": "Ji7diVld4o0Q"
      }
    },
    {
      "cell_type": "code",
      "execution_count": 5,
      "metadata": {
        "colab": {
          "base_uri": "https://localhost:8080/"
        },
        "id": "-2h09vwZQfom",
        "outputId": "d38fdce9-e81f-4558-f969-b8f724955625"
      },
      "outputs": [
        {
          "output_type": "stream",
          "name": "stdout",
          "text": [
            "        Suit of Card 1  Rank of Card 1  Suit of Card 2  Rank of Card 2  \\\n",
            "0                    1               1               1              13   \n",
            "1                    3              12               3               2   \n",
            "2                    1               9               4               6   \n",
            "3                    1               4               3              13   \n",
            "4                    3              10               2               7   \n",
            "...                ...             ...             ...             ...   \n",
            "999995               3               1               1              12   \n",
            "999996               3               3               4               5   \n",
            "999997               1              11               4               7   \n",
            "999998               3              11               1               8   \n",
            "999999               2               5               2               9   \n",
            "\n",
            "        Suit of Card 3  Rank of Card 3  Suit of Card 4  Rank of Card 4  \\\n",
            "0                    2               4               2               3   \n",
            "1                    3              11               4               5   \n",
            "2                    1               4               3               2   \n",
            "3                    2              13               2               1   \n",
            "4                    1               2               2              11   \n",
            "...                ...             ...             ...             ...   \n",
            "999995               2               9               4               9   \n",
            "999996               2               7               1               4   \n",
            "999997               3               9               1              13   \n",
            "999998               1               1               3              13   \n",
            "999999               4               9               2               3   \n",
            "\n",
            "        Suit of Card 5  Rank of Card 5  Poker Hand  \n",
            "0                    1              12           0  \n",
            "1                    2               5           1  \n",
            "2                    3               9           1  \n",
            "3                    3               6           1  \n",
            "4                    4               9           0  \n",
            "...                ...             ...         ...  \n",
            "999995               2               6           1  \n",
            "999996               4               3           1  \n",
            "999997               2               7           1  \n",
            "999998               2               8           1  \n",
            "999999               3               3           2  \n",
            "\n",
            "[1000000 rows x 11 columns]\n"
          ]
        }
      ],
      "source": [
        "import numpy as np\n",
        "import pandas as pd\n",
        "\n",
        "# Configuracion para las librerias\n",
        "pd.options.mode.chained_assignment = None\n",
        "np.set_printoptions(precision = 3)\n",
        "\n",
        "# Se carga el archivo\n",
        "data = pd.read_csv(\"/content/sample_data/poker-hand-testing7.csv\")\n",
        "\n",
        "print(data)"
      ]
    },
    {
      "cell_type": "code",
      "execution_count": 6,
      "metadata": {
        "id": "9C3hV9jdQfo2"
      },
      "outputs": [],
      "source": [
        "# la normalizacion del data set entre la Media y la Estandar\n",
        "def normalize(xs):\n",
        "    xs_norm = xs.copy()\n",
        "    mu = np.zeros(xs.size)\n",
        "    sigma = np.zeros(xs.size)\n",
        "    mu = np.mean(xs, axis = 0) # esta funcion saca la media\n",
        "    sigma = np.std(xs, axis = 0) # esta funcion saca la estandar\n",
        "    xs_norm = (xs - mu) / sigma\n",
        "    print(\"Dataset normalizado\")\n",
        "    return xs_norm, mu, sigma"
      ]
    },
    {
      "cell_type": "code",
      "execution_count": 7,
      "metadata": {
        "colab": {
          "base_uri": "https://localhost:8080/"
        },
        "id": "3BGYOcbPQfo5",
        "outputId": "1900ceea-49e2-467f-dc8d-953da68f94ec"
      },
      "outputs": [
        {
          "output_type": "stream",
          "name": "stdout",
          "text": [
            "(1000000, 11)\n",
            "Dataset normalizado\n",
            "(1000000, 11)\n",
            "(1000000,)\n",
            "[[ 1.    -1.342 -1.602 ... -1.07  -1.34   1.34 ]\n",
            " [ 1.     0.447  1.336 ... -0.535 -0.446 -0.532]\n",
            " [ 1.    -1.342  0.535 ... -1.337  0.447  0.538]\n",
            " ...\n",
            " [ 1.    -1.342  1.069 ...  1.603 -0.446  0.003]\n",
            " [ 1.     0.447  1.069 ...  1.603 -0.446  0.27 ]\n",
            " [ 1.    -0.448 -0.534 ... -1.07   0.447 -1.067]]\n",
            "[0 1 1 ... 1 1 2]\n"
          ]
        }
      ],
      "source": [
        "print(data.shape)\n",
        "\n",
        "\n",
        "y = data[data.columns[10]] # asignacion a la varia y la predicion\n",
        "x = data.iloc[:, 0:10] # asignacion de las variables de x1 x2, x3.....x11\n",
        "\n",
        "y = np.array(y)\n",
        "\n",
        "x, mu, sigma = normalize(x)  # llamdoa a la funcion de normalizacion\n",
        "x = np.concatenate([np.ones((x.shape[0], 1)), x], axis=1) # estas concatenado los 1 al inicio a x0\n",
        "\n",
        "print(x.shape)\n",
        "print(y.shape)\n",
        "\n",
        "print(x)\n",
        "print(y)"
      ]
    },
    {
      "cell_type": "code",
      "execution_count": 8,
      "metadata": {
        "id": "OT1RIUFcQfo9"
      },
      "outputs": [],
      "source": [
        "def relu(x):\n",
        "  return np.maximum(0, x) # funcion de activacion de relu conbierte los valores negativos en 0 y los positivos los deja tal como esta\n",
        "\n",
        "def reluPrime(x):\n",
        "  return x > 0  # la derivada de la funcion de Relu \n",
        "\n",
        "def sigmoid(x):\n",
        "  return 1 / (1 + np.exp(-x))\n",
        "\n",
        "def linear(x):\n",
        "    return x\n",
        "\n",
        "def softmax(x):\n",
        "    return np.exp(x) / np.exp(x).sum(axis=-1,keepdims=True)\n",
        "\n",
        "def crossentropy(y, y_hat):  # esta funcion el para la Clasificacion multiclass que es 0 1 2 3 4 5 6 7 8 9 10\n",
        "    logits = y_hat[np.arange(len(y_hat)),y]\n",
        "    entropy = - logits + np.log(np.sum(np.exp(y_hat),axis=-1))\n",
        "    return entropy.mean()\n",
        "\n",
        "def grad_crossentropy(y, y_hat): # esta funciopn es la deriba de funcion de Crossentropy\n",
        "    answers = np.zeros_like(y_hat)\n",
        "    answers[np.arange(len(y_hat)),y] = 1    \n",
        "    return (- answers + softmax(y_hat)) / y_hat.shape[0]"
      ]
    },
    {
      "cell_type": "code",
      "execution_count": 9,
      "metadata": {
        "id": "3n3jkNlhQfpD"
      },
      "outputs": [],
      "source": [
        "class MLP():\n",
        "  def __init__(self, D_in, H, D_out, loss, grad_loss, activation):\n",
        "    # pesos de la capa 1\n",
        "    self.w1, self.b1 = np.random.normal(loc=0.0,\n",
        "                                  scale=np.sqrt(2/(D_in+H)),\n",
        "                                  size=(D_in, H)), np.zeros(H)\n",
        "    # pesos de la capa 2\n",
        "    self.w2, self.b2 = np.random.normal(loc=0.0,\n",
        "                                  scale=np.sqrt(2/(H+D_out)),\n",
        "                                  size=(H, D_out)), np.zeros(D_out)\n",
        "    self.ws = []\n",
        "    # función de pérdida y derivada\n",
        "    self.loss = loss\n",
        "    self.grad_loss = grad_loss\n",
        "    # función de activación\n",
        "    self.activation = activation\n",
        "\n",
        "  def __call__(self, x):\n",
        "    # salida de la capa 1\n",
        "    self.h_pre = np.dot(x, self.w1) + self.b1\n",
        "    self.h = relu(self.h_pre)\n",
        "    # salida del MLP\n",
        "    y_hat = np.dot(self.h, self.w2) + self.b2 \n",
        "    return self.activation(y_hat)\n",
        "    \n",
        "  def fit(self, X, Y, epochs = 100, lr = 0.001, batch_size=None, verbose=True, log_each=1):\n",
        "    batch_size = len(X) if batch_size == None else batch_size\n",
        "    batches = len(X) // batch_size\n",
        "    l = []\n",
        "    for e in range(1,epochs+1):     \n",
        "        # Mini-Batch Gradient Descent\n",
        "        _l = []\n",
        "        for b in range(batches):\n",
        "            # batch de datos\n",
        "            x = X[b*batch_size:(b+1)*batch_size]\n",
        "            y = Y[b*batch_size:(b+1)*batch_size] \n",
        "            # salida del perceptrón\n",
        "            y_pred = self(x) \n",
        "            # función de pérdida\n",
        "            loss = self.loss(y, y_pred)\n",
        "            _l.append(loss)        \n",
        "            # Backprop \n",
        "            dldy = self.grad_loss(y, y_pred) \n",
        "            grad_w2 = np.dot(self.h.T, dldy)\n",
        "            grad_b2 = dldy.mean(axis=0)\n",
        "            dldh = np.dot(dldy, self.w2.T)*reluPrime(self.h_pre)      \n",
        "            grad_w1 = np.dot(x.T, dldh)\n",
        "            grad_b1 = dldh.mean(axis=0)\n",
        "            # Update (GD)\n",
        "            self.w1 = self.w1 - lr * grad_w1\n",
        "            self.b1 = self.b1 - lr * grad_b1\n",
        "            self.w2 = self.w2 - lr * grad_w2\n",
        "            self.b2 = self.b2 - lr * grad_b2\n",
        "        l.append(np.mean(_l))\n",
        "        # guardamos pesos intermedios para visualización\n",
        "        self.ws.append((\n",
        "            self.w1.copy(),\n",
        "            self.b1.copy(),\n",
        "            self.w2.copy(),\n",
        "            self.b2.copy()\n",
        "        ))\n",
        "        if verbose and not e % log_each:\n",
        "            print(f'Epoch: {e}/{epochs}, Loss: {np.mean(l):.5f}')\n",
        "\n",
        "  def predict(self, ws, x):\n",
        "    w1, b1, w2, b2 = ws\n",
        "    h = relu(np.dot(x, w1) + b1)\n",
        "    y_hat = np.dot(h, w2) + b2\n",
        "    return self.activation(y_hat)"
      ]
    },
    {
      "cell_type": "code",
      "execution_count": 10,
      "metadata": {
        "id": "wOc9DIfdQfpK"
      },
      "outputs": [],
      "source": [
        "# MLP para clasificación multiclase\n",
        "class MLPClassification(MLP):\n",
        "    def __init__(self, D_in, H, D_out):\n",
        "        super().__init__(D_in, H, D_out, crossentropy, grad_crossentropy, linear)"
      ]
    },
    {
      "cell_type": "code",
      "source": [],
      "metadata": {
        "id": "v--0OrWcyEa8"
      },
      "execution_count": 10,
      "outputs": []
    },
    {
      "cell_type": "code",
      "execution_count": 11,
      "metadata": {
        "colab": {
          "base_uri": "https://localhost:8080/"
        },
        "id": "xgx5VMZ5QfpL",
        "outputId": "8aa10bf1-3bfd-4b92-8410-6e0210b4315f"
      },
      "outputs": [
        {
          "output_type": "stream",
          "name": "stdout",
          "text": [
            "Epoch: 50/100, Loss: 0.93189\n",
            "Epoch: 100/100, Loss: 0.88948\n"
          ]
        }
      ],
      "source": [
        "model = MLPClassification(D_in = 11, H = 50, D_out = 10)  # datos entrada D_in 11   Neuronas H =50   datos de Salida D_10  \n",
        "epochs, lr = 100, 0.01\n",
        "model.fit(x, y, epochs, lr, batch_size = 500, log_each = 50)"
      ]
    },
    {
      "cell_type": "code",
      "execution_count": 12,
      "metadata": {
        "colab": {
          "base_uri": "https://localhost:8080/"
        },
        "id": "fR7pet5TQfpj",
        "outputId": "f4487dc1-7b4b-42fa-8f99-181107721257"
      },
      "outputs": [
        {
          "output_type": "stream",
          "name": "stdout",
          "text": [
            "El valor real es 0\n",
            "Predicción de la red neuronal: 0\n",
            "El valor real es 0\n",
            "Predicción de la red neuronal: 1\n",
            "El valor real es 0\n",
            "Predicción de la red neuronal: 1\n"
          ]
        }
      ],
      "source": [
        "import random\n",
        "\n",
        "ws = model.ws[-1]\n",
        "\n",
        "p1 = random.randint(0, 100000)  # estas escogiendo un dato aleatorio de los 100000 datos\n",
        "x1 = x[p1,:]\n",
        "pred1 = model.predict(ws, x1) # estas hacioedo predecir enciadole las Pesos ws y el dato escogido aleatoriamente\n",
        "pred1 = np.argmax(softmax(pred1)) # Esta prediciondo con el softmax\n",
        "real1 = y[p1]  # onteniendo el valor real que tiene la y que escogimos\n",
        "print(f'El valor real es {real1}')\n",
        "print('Predicción de la red neuronal: {}'.format(pred1))\n",
        "\n",
        "p2 = random.randint(0, 100000) # estas escogiendo un dato aleatorio de los 100000 datos\n",
        "x2 = x[p2,:]\n",
        "pred2 = model.predict(ws, x2) \n",
        "pred2 = np.argmax(softmax(pred2))\n",
        "real2 = y[p2]\n",
        "print(f'El valor real es {real2}')\n",
        "print('Predicción de la red neuronal: {}'.format(pred2))\n",
        "\n",
        "p3 = random.randint(0, 100000) # estas escogiendo un dato aleatorio de los 100000 datos\n",
        "x3 = x[p3,:]\n",
        "pred3 = model.predict(ws, x3)\n",
        "pred3 = np.argmax(softmax(pred3))\n",
        "real3 = y[p3]\n",
        "print(f'El valor real es {real3}')\n",
        "print('Predicción de la red neuronal: {}'.format(pred3))\n",
        "\n"
      ]
    }
  ],
  "metadata": {
    "kernelspec": {
      "display_name": "Python 3",
      "language": "python",
      "name": "python3"
    },
    "language_info": {
      "codemirror_mode": {
        "name": "ipython",
        "version": 3
      },
      "file_extension": ".py",
      "mimetype": "text/x-python",
      "name": "python",
      "nbconvert_exporter": "python",
      "pygments_lexer": "ipython3",
      "version": "3.10.8"
    },
    "orig_nbformat": 4,
    "vscode": {
      "interpreter": {
        "hash": "c87aed47e1b3d289feb572ef4357bfb7b88d9e974c69de45b1908b72f7f98d31"
      }
    },
    "colab": {
      "provenance": []
    }
  },
  "nbformat": 4,
  "nbformat_minor": 0
}