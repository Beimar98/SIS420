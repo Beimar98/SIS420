{
  "cells": [
    {
      "cell_type": "markdown",
      "id": "05b9e370",
      "metadata": {
        "id": "05b9e370"
      },
      "source": [
        "#Universitario: Ceron Beimar Miguel\n",
        "#Carrera: Ingenieria de Sistemas\n",
        "#Datashet: Conjunto de datos del juego Poker\thttps://www.kaggle.com/datasets/hosseinah1/poker-game-dataset\n",
        "# Repositorio GITHub:\n",
        "# https://github.com/Beimar98/SIS420 "
      ]
    },
    {
      "cell_type": "markdown",
      "source": [
        "\n",
        "Información de atributos:\n",
        "Variables \"X\":\n",
        "1) S1 “Palo de la carta n.° 1”\n",
        "ordinal (1-4) que representa {Corazones, Picas, Diamantes, Tréboles}\n",
        "\n",
        "2) C1 “Rank of card #1”\n",
        "Numérico (1-13) que representa (As, 2, 3, … , Queen, King)\n",
        "\n",
        "3) S2 “Palo de la carta #2”\n",
        "Ordinal (1-4) que representa {Corazones, Picas, Diamantes, Tréboles}\n",
        "\n",
        "4) C2 “Rank of card #2”\n",
        "Numérico (1-13) que representa (As, 2, 3, … , Queen, King)\n",
        "\n",
        "5) S3 “Palo de la carta #3”\n",
        "Ordinal (1-4) que representa {Corazones, Picas, Diamantes, Tréboles}\n",
        "\n",
        "6) C3 “Rank of card #3”\n",
        "Numérico (1-13) que representa (As, 2, 3, … , Queen, King)\n",
        "\n",
        "7) S4 “Palo de la carta #4”\n",
        "Ordinal (1-4) que representa {Corazones, Picas, Diamantes, Tréboles}\n",
        "\n",
        "8) C4 “Rank of card #4”\n",
        "Numérico (1-13) que representa (As, 2, 3, … , Queen, King)\n",
        "\n",
        "9) S5 “Palo de la carta #5”\n",
        "Ordinal (1-4) que representa {Corazones, Picas, Diamantes, Tréboles}\n",
        "\n",
        "10) C5 “Rank of card 5”\n",
        "Numérico (1-13) que representa (As, 2, 3, … , Queen, King)\n",
        "\n",
        "Variables \"Y\":\n",
        "11) CLASE “Mano de Poker”\n",
        "Ordinal Tipos(0-9)\n",
        "Describiendo cada tipo del cero al nueve es:\n",
        "0: Nada en la mano; no es una mano de póquer reconocida\n",
        "1: Un par; un par de rangos iguales dentro de cinco cartas\n",
        "2: dos pares; dos pares de rangos iguales dentro de cinco cartas\n",
        "3: Trío; tres rangos iguales dentro de cinco cartas\n",
        "4: Escalera; cinco cartas, clasificadas secuencialmente sin espacios\n",
        "5: Color; cinco cartas del mismo palo\n",
        "6: Full; par + rango diferente tres de una clase\n",
        "7: Cuatro de una clase; cuatro rangos iguales dentro de cinco cartas\n",
        "8: Escalera de color; escalera + color o tambien valores de atributos faltantes: ninguno\n",
        "9: escalera real; {As, Rey, Reina, Jota, Diez} + color\n"
      ],
      "metadata": {
        "id": "fywtraCj04Mi"
      },
      "id": "fywtraCj04Mi"
    },
    {
      "cell_type": "code",
      "execution_count": 77,
      "id": "84bc9fe3",
      "metadata": {
        "id": "84bc9fe3"
      },
      "outputs": [],
      "source": [
        "# se utiliza para el manejo de rutas y directorios.\n",
        "import os\n",
        "\n",
        "# Calculo cientifico y vectorial para python\n",
        "import numpy as np\n",
        "import pandas as pd\n",
        "# Librerias para graficar\n",
        "from matplotlib import pyplot\n",
        "\n",
        "# Modulo de optimización de scipy\n",
        "from scipy import optimize\n",
        "\n",
        "# le dice a matplotlib que incruste gráficos en el cuaderno\n",
        "%matplotlib inline"
      ]
    },
    {
      "cell_type": "code",
      "execution_count": 78,
      "id": "9ed5e7b5",
      "metadata": {
        "colab": {
          "base_uri": "https://localhost:8080/",
          "height": 424
        },
        "id": "9ed5e7b5",
        "outputId": "ca15d362-bb98-4bfb-a3ec-9cc3d089edbe"
      },
      "outputs": [
        {
          "output_type": "execute_result",
          "data": {
            "text/plain": [
              "        0   1   2   3   4   5   6   7   8   9   10\n",
              "0        1   1   1  13   2   4   2   3   1  12   0\n",
              "1        3  12   3   2   3  11   4   5   2   5   1\n",
              "2        1   9   4   6   1   4   3   2   3   9   1\n",
              "3        1   4   3  13   2  13   2   1   3   6   1\n",
              "4        3  10   2   7   1   2   2  11   4   9   0\n",
              "...     ..  ..  ..  ..  ..  ..  ..  ..  ..  ..  ..\n",
              "999995   3   1   1  12   2   9   4   9   2   6   1\n",
              "999996   3   3   4   5   2   7   1   4   4   3   1\n",
              "999997   1  11   4   7   3   9   1  13   2   7   1\n",
              "999998   3  11   1   8   1   1   3  13   2   8   1\n",
              "999999   2   5   2   9   4   9   2   3   3   3   2\n",
              "\n",
              "[1000000 rows x 11 columns]"
            ],
            "text/html": [
              "\n",
              "  <div id=\"df-50acf36f-c1e1-438c-924d-0d5b9eff845a\">\n",
              "    <div class=\"colab-df-container\">\n",
              "      <div>\n",
              "<style scoped>\n",
              "    .dataframe tbody tr th:only-of-type {\n",
              "        vertical-align: middle;\n",
              "    }\n",
              "\n",
              "    .dataframe tbody tr th {\n",
              "        vertical-align: top;\n",
              "    }\n",
              "\n",
              "    .dataframe thead th {\n",
              "        text-align: right;\n",
              "    }\n",
              "</style>\n",
              "<table border=\"1\" class=\"dataframe\">\n",
              "  <thead>\n",
              "    <tr style=\"text-align: right;\">\n",
              "      <th></th>\n",
              "      <th>0</th>\n",
              "      <th>1</th>\n",
              "      <th>2</th>\n",
              "      <th>3</th>\n",
              "      <th>4</th>\n",
              "      <th>5</th>\n",
              "      <th>6</th>\n",
              "      <th>7</th>\n",
              "      <th>8</th>\n",
              "      <th>9</th>\n",
              "      <th>10</th>\n",
              "    </tr>\n",
              "  </thead>\n",
              "  <tbody>\n",
              "    <tr>\n",
              "      <th>0</th>\n",
              "      <td>1</td>\n",
              "      <td>1</td>\n",
              "      <td>1</td>\n",
              "      <td>13</td>\n",
              "      <td>2</td>\n",
              "      <td>4</td>\n",
              "      <td>2</td>\n",
              "      <td>3</td>\n",
              "      <td>1</td>\n",
              "      <td>12</td>\n",
              "      <td>0</td>\n",
              "    </tr>\n",
              "    <tr>\n",
              "      <th>1</th>\n",
              "      <td>3</td>\n",
              "      <td>12</td>\n",
              "      <td>3</td>\n",
              "      <td>2</td>\n",
              "      <td>3</td>\n",
              "      <td>11</td>\n",
              "      <td>4</td>\n",
              "      <td>5</td>\n",
              "      <td>2</td>\n",
              "      <td>5</td>\n",
              "      <td>1</td>\n",
              "    </tr>\n",
              "    <tr>\n",
              "      <th>2</th>\n",
              "      <td>1</td>\n",
              "      <td>9</td>\n",
              "      <td>4</td>\n",
              "      <td>6</td>\n",
              "      <td>1</td>\n",
              "      <td>4</td>\n",
              "      <td>3</td>\n",
              "      <td>2</td>\n",
              "      <td>3</td>\n",
              "      <td>9</td>\n",
              "      <td>1</td>\n",
              "    </tr>\n",
              "    <tr>\n",
              "      <th>3</th>\n",
              "      <td>1</td>\n",
              "      <td>4</td>\n",
              "      <td>3</td>\n",
              "      <td>13</td>\n",
              "      <td>2</td>\n",
              "      <td>13</td>\n",
              "      <td>2</td>\n",
              "      <td>1</td>\n",
              "      <td>3</td>\n",
              "      <td>6</td>\n",
              "      <td>1</td>\n",
              "    </tr>\n",
              "    <tr>\n",
              "      <th>4</th>\n",
              "      <td>3</td>\n",
              "      <td>10</td>\n",
              "      <td>2</td>\n",
              "      <td>7</td>\n",
              "      <td>1</td>\n",
              "      <td>2</td>\n",
              "      <td>2</td>\n",
              "      <td>11</td>\n",
              "      <td>4</td>\n",
              "      <td>9</td>\n",
              "      <td>0</td>\n",
              "    </tr>\n",
              "    <tr>\n",
              "      <th>...</th>\n",
              "      <td>...</td>\n",
              "      <td>...</td>\n",
              "      <td>...</td>\n",
              "      <td>...</td>\n",
              "      <td>...</td>\n",
              "      <td>...</td>\n",
              "      <td>...</td>\n",
              "      <td>...</td>\n",
              "      <td>...</td>\n",
              "      <td>...</td>\n",
              "      <td>...</td>\n",
              "    </tr>\n",
              "    <tr>\n",
              "      <th>999995</th>\n",
              "      <td>3</td>\n",
              "      <td>1</td>\n",
              "      <td>1</td>\n",
              "      <td>12</td>\n",
              "      <td>2</td>\n",
              "      <td>9</td>\n",
              "      <td>4</td>\n",
              "      <td>9</td>\n",
              "      <td>2</td>\n",
              "      <td>6</td>\n",
              "      <td>1</td>\n",
              "    </tr>\n",
              "    <tr>\n",
              "      <th>999996</th>\n",
              "      <td>3</td>\n",
              "      <td>3</td>\n",
              "      <td>4</td>\n",
              "      <td>5</td>\n",
              "      <td>2</td>\n",
              "      <td>7</td>\n",
              "      <td>1</td>\n",
              "      <td>4</td>\n",
              "      <td>4</td>\n",
              "      <td>3</td>\n",
              "      <td>1</td>\n",
              "    </tr>\n",
              "    <tr>\n",
              "      <th>999997</th>\n",
              "      <td>1</td>\n",
              "      <td>11</td>\n",
              "      <td>4</td>\n",
              "      <td>7</td>\n",
              "      <td>3</td>\n",
              "      <td>9</td>\n",
              "      <td>1</td>\n",
              "      <td>13</td>\n",
              "      <td>2</td>\n",
              "      <td>7</td>\n",
              "      <td>1</td>\n",
              "    </tr>\n",
              "    <tr>\n",
              "      <th>999998</th>\n",
              "      <td>3</td>\n",
              "      <td>11</td>\n",
              "      <td>1</td>\n",
              "      <td>8</td>\n",
              "      <td>1</td>\n",
              "      <td>1</td>\n",
              "      <td>3</td>\n",
              "      <td>13</td>\n",
              "      <td>2</td>\n",
              "      <td>8</td>\n",
              "      <td>1</td>\n",
              "    </tr>\n",
              "    <tr>\n",
              "      <th>999999</th>\n",
              "      <td>2</td>\n",
              "      <td>5</td>\n",
              "      <td>2</td>\n",
              "      <td>9</td>\n",
              "      <td>4</td>\n",
              "      <td>9</td>\n",
              "      <td>2</td>\n",
              "      <td>3</td>\n",
              "      <td>3</td>\n",
              "      <td>3</td>\n",
              "      <td>2</td>\n",
              "    </tr>\n",
              "  </tbody>\n",
              "</table>\n",
              "<p>1000000 rows × 11 columns</p>\n",
              "</div>\n",
              "      <button class=\"colab-df-convert\" onclick=\"convertToInteractive('df-50acf36f-c1e1-438c-924d-0d5b9eff845a')\"\n",
              "              title=\"Convert this dataframe to an interactive table.\"\n",
              "              style=\"display:none;\">\n",
              "        \n",
              "  <svg xmlns=\"http://www.w3.org/2000/svg\" height=\"24px\"viewBox=\"0 0 24 24\"\n",
              "       width=\"24px\">\n",
              "    <path d=\"M0 0h24v24H0V0z\" fill=\"none\"/>\n",
              "    <path d=\"M18.56 5.44l.94 2.06.94-2.06 2.06-.94-2.06-.94-.94-2.06-.94 2.06-2.06.94zm-11 1L8.5 8.5l.94-2.06 2.06-.94-2.06-.94L8.5 2.5l-.94 2.06-2.06.94zm10 10l.94 2.06.94-2.06 2.06-.94-2.06-.94-.94-2.06-.94 2.06-2.06.94z\"/><path d=\"M17.41 7.96l-1.37-1.37c-.4-.4-.92-.59-1.43-.59-.52 0-1.04.2-1.43.59L10.3 9.45l-7.72 7.72c-.78.78-.78 2.05 0 2.83L4 21.41c.39.39.9.59 1.41.59.51 0 1.02-.2 1.41-.59l7.78-7.78 2.81-2.81c.8-.78.8-2.07 0-2.86zM5.41 20L4 18.59l7.72-7.72 1.47 1.35L5.41 20z\"/>\n",
              "  </svg>\n",
              "      </button>\n",
              "      \n",
              "  <style>\n",
              "    .colab-df-container {\n",
              "      display:flex;\n",
              "      flex-wrap:wrap;\n",
              "      gap: 12px;\n",
              "    }\n",
              "\n",
              "    .colab-df-convert {\n",
              "      background-color: #E8F0FE;\n",
              "      border: none;\n",
              "      border-radius: 50%;\n",
              "      cursor: pointer;\n",
              "      display: none;\n",
              "      fill: #1967D2;\n",
              "      height: 32px;\n",
              "      padding: 0 0 0 0;\n",
              "      width: 32px;\n",
              "    }\n",
              "\n",
              "    .colab-df-convert:hover {\n",
              "      background-color: #E2EBFA;\n",
              "      box-shadow: 0px 1px 2px rgba(60, 64, 67, 0.3), 0px 1px 3px 1px rgba(60, 64, 67, 0.15);\n",
              "      fill: #174EA6;\n",
              "    }\n",
              "\n",
              "    [theme=dark] .colab-df-convert {\n",
              "      background-color: #3B4455;\n",
              "      fill: #D2E3FC;\n",
              "    }\n",
              "\n",
              "    [theme=dark] .colab-df-convert:hover {\n",
              "      background-color: #434B5C;\n",
              "      box-shadow: 0px 1px 3px 1px rgba(0, 0, 0, 0.15);\n",
              "      filter: drop-shadow(0px 1px 2px rgba(0, 0, 0, 0.3));\n",
              "      fill: #FFFFFF;\n",
              "    }\n",
              "  </style>\n",
              "\n",
              "      <script>\n",
              "        const buttonEl =\n",
              "          document.querySelector('#df-50acf36f-c1e1-438c-924d-0d5b9eff845a button.colab-df-convert');\n",
              "        buttonEl.style.display =\n",
              "          google.colab.kernel.accessAllowed ? 'block' : 'none';\n",
              "\n",
              "        async function convertToInteractive(key) {\n",
              "          const element = document.querySelector('#df-50acf36f-c1e1-438c-924d-0d5b9eff845a');\n",
              "          const dataTable =\n",
              "            await google.colab.kernel.invokeFunction('convertToInteractive',\n",
              "                                                     [key], {});\n",
              "          if (!dataTable) return;\n",
              "\n",
              "          const docLinkHtml = 'Like what you see? Visit the ' +\n",
              "            '<a target=\"_blank\" href=https://colab.research.google.com/notebooks/data_table.ipynb>data table notebook</a>'\n",
              "            + ' to learn more about interactive tables.';\n",
              "          element.innerHTML = '';\n",
              "          dataTable['output_type'] = 'display_data';\n",
              "          await google.colab.output.renderOutput(dataTable, element);\n",
              "          const docLink = document.createElement('div');\n",
              "          docLink.innerHTML = docLinkHtml;\n",
              "          element.appendChild(docLink);\n",
              "        }\n",
              "      </script>\n",
              "    </div>\n",
              "  </div>\n",
              "  "
            ]
          },
          "metadata": {},
          "execution_count": 78
        }
      ],
      "source": [
        "data = pd.read_csv('/content/sample_data/poker-hand-testing3.csv', header=None)\n",
        "data\n"
      ]
    },
    {
      "cell_type": "code",
      "execution_count": 79,
      "id": "693ffb53",
      "metadata": {
        "colab": {
          "base_uri": "https://localhost:8080/",
          "height": 364
        },
        "id": "693ffb53",
        "outputId": "ae0fe4ac-6599-436e-b3bd-5657df527c13"
      },
      "outputs": [
        {
          "output_type": "execute_result",
          "data": {
            "text/plain": [
              "                   0               1               2               3   \\\n",
              "count  1000000.000000  1000000.000000  1000000.000000  1000000.000000   \n",
              "mean         2.500493        6.997927        2.499894        7.006097   \n",
              "std          1.117768        3.743374        1.118568        3.743481   \n",
              "min          1.000000        1.000000        1.000000        1.000000   \n",
              "25%          2.000000        4.000000        1.000000        4.000000   \n",
              "50%          3.000000        7.000000        3.000000        7.000000   \n",
              "75%          3.000000       10.000000        4.000000       10.000000   \n",
              "max          4.000000       13.000000        4.000000       13.000000   \n",
              "\n",
              "                   4               5               6               7   \\\n",
              "count  1000000.000000  1000000.000000  1000000.000000  1000000.000000   \n",
              "mean         2.500871        6.998873        2.500393        7.002298   \n",
              "std          1.118225        3.741890        1.117245        3.741270   \n",
              "min          1.000000        1.000000        1.000000        1.000000   \n",
              "25%          1.000000        4.000000        2.000000        4.000000   \n",
              "50%          3.000000        7.000000        3.000000        7.000000   \n",
              "75%          4.000000       10.000000        3.000000       10.000000   \n",
              "max          4.000000       13.000000        4.000000       13.000000   \n",
              "\n",
              "                   8               9               10  \n",
              "count  1000000.000000  1000000.000000  1000000.000000  \n",
              "mean         2.499451        6.989481        0.616902  \n",
              "std          1.118948        3.739894        0.773377  \n",
              "min          1.000000        1.000000        0.000000  \n",
              "25%          1.000000        4.000000        0.000000  \n",
              "50%          2.000000        7.000000        0.000000  \n",
              "75%          4.000000       10.000000        1.000000  \n",
              "max          4.000000       13.000000        9.000000  "
            ],
            "text/html": [
              "\n",
              "  <div id=\"df-b536dcd4-f1f9-4223-ae91-f88bad90eb56\">\n",
              "    <div class=\"colab-df-container\">\n",
              "      <div>\n",
              "<style scoped>\n",
              "    .dataframe tbody tr th:only-of-type {\n",
              "        vertical-align: middle;\n",
              "    }\n",
              "\n",
              "    .dataframe tbody tr th {\n",
              "        vertical-align: top;\n",
              "    }\n",
              "\n",
              "    .dataframe thead th {\n",
              "        text-align: right;\n",
              "    }\n",
              "</style>\n",
              "<table border=\"1\" class=\"dataframe\">\n",
              "  <thead>\n",
              "    <tr style=\"text-align: right;\">\n",
              "      <th></th>\n",
              "      <th>0</th>\n",
              "      <th>1</th>\n",
              "      <th>2</th>\n",
              "      <th>3</th>\n",
              "      <th>4</th>\n",
              "      <th>5</th>\n",
              "      <th>6</th>\n",
              "      <th>7</th>\n",
              "      <th>8</th>\n",
              "      <th>9</th>\n",
              "      <th>10</th>\n",
              "    </tr>\n",
              "  </thead>\n",
              "  <tbody>\n",
              "    <tr>\n",
              "      <th>count</th>\n",
              "      <td>1000000.000000</td>\n",
              "      <td>1000000.000000</td>\n",
              "      <td>1000000.000000</td>\n",
              "      <td>1000000.000000</td>\n",
              "      <td>1000000.000000</td>\n",
              "      <td>1000000.000000</td>\n",
              "      <td>1000000.000000</td>\n",
              "      <td>1000000.000000</td>\n",
              "      <td>1000000.000000</td>\n",
              "      <td>1000000.000000</td>\n",
              "      <td>1000000.000000</td>\n",
              "    </tr>\n",
              "    <tr>\n",
              "      <th>mean</th>\n",
              "      <td>2.500493</td>\n",
              "      <td>6.997927</td>\n",
              "      <td>2.499894</td>\n",
              "      <td>7.006097</td>\n",
              "      <td>2.500871</td>\n",
              "      <td>6.998873</td>\n",
              "      <td>2.500393</td>\n",
              "      <td>7.002298</td>\n",
              "      <td>2.499451</td>\n",
              "      <td>6.989481</td>\n",
              "      <td>0.616902</td>\n",
              "    </tr>\n",
              "    <tr>\n",
              "      <th>std</th>\n",
              "      <td>1.117768</td>\n",
              "      <td>3.743374</td>\n",
              "      <td>1.118568</td>\n",
              "      <td>3.743481</td>\n",
              "      <td>1.118225</td>\n",
              "      <td>3.741890</td>\n",
              "      <td>1.117245</td>\n",
              "      <td>3.741270</td>\n",
              "      <td>1.118948</td>\n",
              "      <td>3.739894</td>\n",
              "      <td>0.773377</td>\n",
              "    </tr>\n",
              "    <tr>\n",
              "      <th>min</th>\n",
              "      <td>1.000000</td>\n",
              "      <td>1.000000</td>\n",
              "      <td>1.000000</td>\n",
              "      <td>1.000000</td>\n",
              "      <td>1.000000</td>\n",
              "      <td>1.000000</td>\n",
              "      <td>1.000000</td>\n",
              "      <td>1.000000</td>\n",
              "      <td>1.000000</td>\n",
              "      <td>1.000000</td>\n",
              "      <td>0.000000</td>\n",
              "    </tr>\n",
              "    <tr>\n",
              "      <th>25%</th>\n",
              "      <td>2.000000</td>\n",
              "      <td>4.000000</td>\n",
              "      <td>1.000000</td>\n",
              "      <td>4.000000</td>\n",
              "      <td>1.000000</td>\n",
              "      <td>4.000000</td>\n",
              "      <td>2.000000</td>\n",
              "      <td>4.000000</td>\n",
              "      <td>1.000000</td>\n",
              "      <td>4.000000</td>\n",
              "      <td>0.000000</td>\n",
              "    </tr>\n",
              "    <tr>\n",
              "      <th>50%</th>\n",
              "      <td>3.000000</td>\n",
              "      <td>7.000000</td>\n",
              "      <td>3.000000</td>\n",
              "      <td>7.000000</td>\n",
              "      <td>3.000000</td>\n",
              "      <td>7.000000</td>\n",
              "      <td>3.000000</td>\n",
              "      <td>7.000000</td>\n",
              "      <td>2.000000</td>\n",
              "      <td>7.000000</td>\n",
              "      <td>0.000000</td>\n",
              "    </tr>\n",
              "    <tr>\n",
              "      <th>75%</th>\n",
              "      <td>3.000000</td>\n",
              "      <td>10.000000</td>\n",
              "      <td>4.000000</td>\n",
              "      <td>10.000000</td>\n",
              "      <td>4.000000</td>\n",
              "      <td>10.000000</td>\n",
              "      <td>3.000000</td>\n",
              "      <td>10.000000</td>\n",
              "      <td>4.000000</td>\n",
              "      <td>10.000000</td>\n",
              "      <td>1.000000</td>\n",
              "    </tr>\n",
              "    <tr>\n",
              "      <th>max</th>\n",
              "      <td>4.000000</td>\n",
              "      <td>13.000000</td>\n",
              "      <td>4.000000</td>\n",
              "      <td>13.000000</td>\n",
              "      <td>4.000000</td>\n",
              "      <td>13.000000</td>\n",
              "      <td>4.000000</td>\n",
              "      <td>13.000000</td>\n",
              "      <td>4.000000</td>\n",
              "      <td>13.000000</td>\n",
              "      <td>9.000000</td>\n",
              "    </tr>\n",
              "  </tbody>\n",
              "</table>\n",
              "</div>\n",
              "      <button class=\"colab-df-convert\" onclick=\"convertToInteractive('df-b536dcd4-f1f9-4223-ae91-f88bad90eb56')\"\n",
              "              title=\"Convert this dataframe to an interactive table.\"\n",
              "              style=\"display:none;\">\n",
              "        \n",
              "  <svg xmlns=\"http://www.w3.org/2000/svg\" height=\"24px\"viewBox=\"0 0 24 24\"\n",
              "       width=\"24px\">\n",
              "    <path d=\"M0 0h24v24H0V0z\" fill=\"none\"/>\n",
              "    <path d=\"M18.56 5.44l.94 2.06.94-2.06 2.06-.94-2.06-.94-.94-2.06-.94 2.06-2.06.94zm-11 1L8.5 8.5l.94-2.06 2.06-.94-2.06-.94L8.5 2.5l-.94 2.06-2.06.94zm10 10l.94 2.06.94-2.06 2.06-.94-2.06-.94-.94-2.06-.94 2.06-2.06.94z\"/><path d=\"M17.41 7.96l-1.37-1.37c-.4-.4-.92-.59-1.43-.59-.52 0-1.04.2-1.43.59L10.3 9.45l-7.72 7.72c-.78.78-.78 2.05 0 2.83L4 21.41c.39.39.9.59 1.41.59.51 0 1.02-.2 1.41-.59l7.78-7.78 2.81-2.81c.8-.78.8-2.07 0-2.86zM5.41 20L4 18.59l7.72-7.72 1.47 1.35L5.41 20z\"/>\n",
              "  </svg>\n",
              "      </button>\n",
              "      \n",
              "  <style>\n",
              "    .colab-df-container {\n",
              "      display:flex;\n",
              "      flex-wrap:wrap;\n",
              "      gap: 12px;\n",
              "    }\n",
              "\n",
              "    .colab-df-convert {\n",
              "      background-color: #E8F0FE;\n",
              "      border: none;\n",
              "      border-radius: 50%;\n",
              "      cursor: pointer;\n",
              "      display: none;\n",
              "      fill: #1967D2;\n",
              "      height: 32px;\n",
              "      padding: 0 0 0 0;\n",
              "      width: 32px;\n",
              "    }\n",
              "\n",
              "    .colab-df-convert:hover {\n",
              "      background-color: #E2EBFA;\n",
              "      box-shadow: 0px 1px 2px rgba(60, 64, 67, 0.3), 0px 1px 3px 1px rgba(60, 64, 67, 0.15);\n",
              "      fill: #174EA6;\n",
              "    }\n",
              "\n",
              "    [theme=dark] .colab-df-convert {\n",
              "      background-color: #3B4455;\n",
              "      fill: #D2E3FC;\n",
              "    }\n",
              "\n",
              "    [theme=dark] .colab-df-convert:hover {\n",
              "      background-color: #434B5C;\n",
              "      box-shadow: 0px 1px 3px 1px rgba(0, 0, 0, 0.15);\n",
              "      filter: drop-shadow(0px 1px 2px rgba(0, 0, 0, 0.3));\n",
              "      fill: #FFFFFF;\n",
              "    }\n",
              "  </style>\n",
              "\n",
              "      <script>\n",
              "        const buttonEl =\n",
              "          document.querySelector('#df-b536dcd4-f1f9-4223-ae91-f88bad90eb56 button.colab-df-convert');\n",
              "        buttonEl.style.display =\n",
              "          google.colab.kernel.accessAllowed ? 'block' : 'none';\n",
              "\n",
              "        async function convertToInteractive(key) {\n",
              "          const element = document.querySelector('#df-b536dcd4-f1f9-4223-ae91-f88bad90eb56');\n",
              "          const dataTable =\n",
              "            await google.colab.kernel.invokeFunction('convertToInteractive',\n",
              "                                                     [key], {});\n",
              "          if (!dataTable) return;\n",
              "\n",
              "          const docLinkHtml = 'Like what you see? Visit the ' +\n",
              "            '<a target=\"_blank\" href=https://colab.research.google.com/notebooks/data_table.ipynb>data table notebook</a>'\n",
              "            + ' to learn more about interactive tables.';\n",
              "          element.innerHTML = '';\n",
              "          dataTable['output_type'] = 'display_data';\n",
              "          await google.colab.output.renderOutput(dataTable, element);\n",
              "          const docLink = document.createElement('div');\n",
              "          docLink.innerHTML = docLinkHtml;\n",
              "          element.appendChild(docLink);\n",
              "        }\n",
              "      </script>\n",
              "    </div>\n",
              "  </div>\n",
              "  "
            ]
          },
          "metadata": {},
          "execution_count": 79
        }
      ],
      "source": [
        "data.describe()"
      ]
    },
    {
      "cell_type": "code",
      "execution_count": 80,
      "id": "c6c5bc53",
      "metadata": {
        "id": "c6c5bc53"
      },
      "outputs": [],
      "source": [
        "#data = data.drop([0], axis=1)\n",
        "#data"
      ]
    },
    {
      "cell_type": "code",
      "execution_count": 81,
      "id": "2f8b3846",
      "metadata": {
        "id": "2f8b3846",
        "outputId": "4182a1b2-2c6b-44f7-95b9-cfd53b343ec3",
        "colab": {
          "base_uri": "https://localhost:8080/"
        }
      },
      "outputs": [
        {
          "output_type": "stream",
          "name": "stdout",
          "text": [
            "[[ 1  1  1 ...  3  1 12]\n",
            " [ 3 12  3 ...  5  2  5]\n",
            " [ 1  9  4 ...  2  3  9]\n",
            " ...\n",
            " [ 1 11  4 ... 13  2  7]\n",
            " [ 3 11  1 ... 13  2  8]\n",
            " [ 2  5  2 ...  3  3  3]]\n",
            "[0 1 1 ... 1 1 2]\n"
          ]
        }
      ],
      "source": [
        "data = np.array(data)\n",
        "X = data[:, 0:10]\n",
        "y = data[:, 10]\n",
        "print(X)\n",
        "print(y)"
      ]
    },
    {
      "cell_type": "code",
      "execution_count": 81,
      "id": "a833daef",
      "metadata": {
        "id": "a833daef"
      },
      "outputs": [],
      "source": []
    },
    {
      "cell_type": "code",
      "execution_count": 81,
      "id": "7f40f5d7",
      "metadata": {
        "id": "7f40f5d7"
      },
      "outputs": [],
      "source": []
    },
    {
      "cell_type": "code",
      "execution_count": 81,
      "id": "dcfc7f1d",
      "metadata": {
        "id": "dcfc7f1d"
      },
      "outputs": [],
      "source": []
    },
    {
      "cell_type": "code",
      "execution_count": 82,
      "id": "48ca0d72",
      "metadata": {
        "id": "48ca0d72"
      },
      "outputs": [],
      "source": [
        "def  featureNormalize(X):\n",
        "    X_norm = X.copy()\n",
        "    mu = np.zeros(X.shape[1])\n",
        "    sigma = np.zeros(X.shape[1])\n",
        "\n",
        "    mu = np.mean(X, axis = 0)\n",
        "    sigma = np.std(X, axis = 0)\n",
        "    X_norm = (X - mu) / sigma\n",
        "    \n",
        "    return X_norm, mu, sigma"
      ]
    },
    {
      "cell_type": "code",
      "execution_count": 83,
      "id": "d2db860b",
      "metadata": {
        "id": "d2db860b",
        "outputId": "5b077d54-87b8-4812-89ea-47b16145d6c1",
        "colab": {
          "base_uri": "https://localhost:8080/"
        }
      },
      "outputs": [
        {
          "output_type": "stream",
          "name": "stdout",
          "text": [
            "[[ 1  1  1 ...  3  1 12]\n",
            " [ 3 12  3 ...  5  2  5]\n",
            " [ 1  9  4 ...  2  3  9]\n",
            " ...\n",
            " [ 1 11  4 ... 13  2  7]\n",
            " [ 3 11  1 ... 13  2  8]\n",
            " [ 2  5  2 ...  3  3  3]]\n",
            "Media calculada: [2.500493 6.997927 2.499894 7.006097 2.500871 6.998873 2.500393 7.002298\n",
            " 2.499451 6.989481]\n",
            "Desviación estandar calculada: [1.11776731 3.74337237 1.11856783 3.74347911 1.11822415 3.74188826\n",
            " 1.11724476 3.74126806 1.11894759 3.73989229]\n",
            "[[-1.34240194 -1.60227902 -1.34090572 ... -1.06977044 -1.34005473\n",
            "   1.33974955]\n",
            " [ 0.44687924  1.33624777  0.44709493 ... -0.53519234 -0.44635782\n",
            "  -0.53196211]\n",
            " [-1.34240194  0.53483138  1.34109525 ... -1.3370595   0.44733909\n",
            "   0.53758741]\n",
            " ...\n",
            " [-1.34240194  1.06910898  1.34109525 ...  1.60312009 -0.44635782\n",
            "   0.00281265]\n",
            " [ 0.44687924  1.06910898 -1.34090572 ...  1.60312009 -0.44635782\n",
            "   0.27020003]\n",
            " [-0.44776135 -0.53372382 -0.4469054  ... -1.06977044  0.44733909\n",
            "  -1.06673687]]\n"
          ]
        }
      ],
      "source": [
        "# llama featureNormalize con los datos cargados\n",
        "X_norm, mu, sigma = featureNormalize(X)\n",
        "\n",
        "print(X)\n",
        "print('Media calculada:', mu)\n",
        "print('Desviación estandar calculada:', sigma)\n",
        "print(X_norm)"
      ]
    },
    {
      "cell_type": "code",
      "execution_count": 84,
      "id": "c551a637",
      "metadata": {
        "id": "c551a637"
      },
      "outputs": [],
      "source": [
        "# Añade el termino de interseccion a X\n",
        "# (Columna de unos para X0)\n",
        "m = y.size\n",
        "X = np.concatenate([np.ones((m, 1)), X_norm], axis=1)"
      ]
    },
    {
      "cell_type": "code",
      "execution_count": 85,
      "id": "846f9a0d",
      "metadata": {
        "id": "846f9a0d",
        "outputId": "6900beca-e68b-45f6-fdf0-79362d52fe5c",
        "colab": {
          "base_uri": "https://localhost:8080/"
        }
      },
      "outputs": [
        {
          "output_type": "stream",
          "name": "stdout",
          "text": [
            "[[ 1.         -1.34240194 -1.60227902 ... -1.06977044 -1.34005473\n",
            "   1.33974955]\n",
            " [ 1.          0.44687924  1.33624777 ... -0.53519234 -0.44635782\n",
            "  -0.53196211]\n",
            " [ 1.         -1.34240194  0.53483138 ... -1.3370595   0.44733909\n",
            "   0.53758741]\n",
            " ...\n",
            " [ 1.         -1.34240194  1.06910898 ...  1.60312009 -0.44635782\n",
            "   0.00281265]\n",
            " [ 1.          0.44687924  1.06910898 ...  1.60312009 -0.44635782\n",
            "   0.27020003]\n",
            " [ 1.         -0.44776135 -0.53372382 ... -1.06977044  0.44733909\n",
            "  -1.06673687]]\n"
          ]
        }
      ],
      "source": [
        "print(X)"
      ]
    },
    {
      "cell_type": "code",
      "execution_count": 86,
      "id": "28bec1fe",
      "metadata": {
        "id": "28bec1fe"
      },
      "outputs": [],
      "source": [
        "#FUNCION SIGMOIDE\n",
        "def sigmoid(z):\n",
        "    # Calcula la sigmoide de una entrada z\n",
        "    # convierte la intrada a un arreglo numpy\n",
        "    z = np.array(z)\n",
        "  \n",
        "    g = np.zeros(z.shape)\n",
        "\n",
        "    g = 1 / (1 + np.exp(-z))\n",
        "\n",
        "    return g"
      ]
    },
    {
      "cell_type": "code",
      "execution_count": 87,
      "id": "719591b6",
      "metadata": {
        "id": "719591b6",
        "outputId": "761d76a2-7cad-4cf8-f6ed-7965cf4c81b1",
        "colab": {
          "base_uri": "https://localhost:8080/"
        }
      },
      "outputs": [
        {
          "output_type": "stream",
          "name": "stdout",
          "text": [
            "g( 0 ) =  0.5\n"
          ]
        }
      ],
      "source": [
        "# Prueba la implementacion de la funcion sigmoid\n",
        "z = 0\n",
        "g = sigmoid(z)\n",
        "\n",
        "print('g(', z, ') = ', g)"
      ]
    },
    {
      "cell_type": "code",
      "execution_count": 88,
      "id": "f730ef7e",
      "metadata": {
        "id": "f730ef7e"
      },
      "outputs": [],
      "source": [
        "def calcularCosto(theta, X, y):\n",
        "    # Inicializar algunos valores utiles\n",
        "    m = y.size  # numero de ejemplos de entrenamiento\n",
        "\n",
        "    J = 0\n",
        "    h = sigmoid(X.dot(theta.T))\n",
        "    J = (1 / m) * np.sum(-y.dot(np.log(h)) - (1 - y).dot(np.log(1 - h)))\n",
        "    \n",
        "    return J"
      ]
    },
    {
      "cell_type": "code",
      "execution_count": 89,
      "id": "08ae6ee0",
      "metadata": {
        "id": "08ae6ee0"
      },
      "outputs": [],
      "source": [
        "def descensoGradiente(theta, X, y, alpha, num_iters):\n",
        "    # Inicializa algunos valores\n",
        "    m = y.shape[0] # numero de ejemplos de entrenamiento\n",
        "    \n",
        "    # realiza una copia de theta, el cual será acutalizada por el descenso por el gradiente\n",
        "    theta = theta.copy()\n",
        "    J_history = []\n",
        "    \n",
        "    for i in range(num_iters):\n",
        "        h = sigmoid(X.dot(theta.T))\n",
        "        theta = theta - (alpha / m) * (h - y).dot(X)\n",
        "       \n",
        "        J_history.append(calcularCosto(theta, X, y))\n",
        "    return theta, J_history"
      ]
    },
    {
      "cell_type": "code",
      "execution_count": 90,
      "id": "55485815",
      "metadata": {
        "id": "55485815",
        "outputId": "38c8432f-6b7a-4447-e7d2-340c023a53ae",
        "colab": {
          "base_uri": "https://localhost:8080/",
          "height": 331
        }
      },
      "outputs": [
        {
          "output_type": "stream",
          "name": "stdout",
          "text": [
            "theta calculado por el descenso por el gradiente: [ 4.76473855e-01 -1.17496835e-05  1.33212706e-02 -7.52951640e-04\n",
            "  6.39734397e-03  3.70305989e-03  8.84378807e-03 -3.82588146e-03\n",
            "  1.05287072e-02 -4.98858631e-03  6.03631269e-03]\n"
          ]
        },
        {
          "output_type": "display_data",
          "data": {
            "text/plain": [
              "<Figure size 432x288 with 1 Axes>"
            ],
            "image/png": "[encoded data removed]"
          },
          "metadata": {
            "needs_background": "light"
          }
        }
      ],
      "source": [
        "# Elegir algun valor para alpha (probar varias alternativas)\n",
        "#alpha = 0.0001\n",
        "num_iters = 1000\n",
        "alpha = 0.1\n",
        "#num_iters = 30\n",
        "# inicializa theta y ejecuta el descenso por el gradiente\n",
        "theta = np.zeros(11)\n",
        "theta, J_history = descensoGradiente(theta, X, y, alpha, num_iters)\n",
        "\n",
        "# Grafica la convergencia del costo\n",
        "pyplot.plot(np.arange(len(J_history)), J_history, lw=2)\n",
        "pyplot.xlabel('Numero de iteraciones')\n",
        "pyplot.ylabel('Costo J')\n",
        "\n",
        "# Muestra los resultados del descenso por el gradiente\n",
        "print('theta calculado por el descenso por el gradiente: {:s}'.format(str(theta)))\n",
        "\n",
        "#10000\n",
        "X_array = [1,1,1,1,13,2,4,2,3,1,12]\n",
        "tipo1 = sigmoid(np.dot(X_array, theta))   # Se debe cambiar esto\n",
        "\n",
        "#print(f\"caracteristicas: {X_array[1]} y {X_array[2]} y {X_array[3]} y {X_array[4]} y {X_array[5]} y {X_array[6]} y {X_array[7]} y {X_array[8]} y {X_array[9]} y {X_array[10]} y {X_array[11]} (usando el descenso por el gradiente):{tipo1}\")"
      ]
    },
    {
      "cell_type": "code",
      "execution_count": 91,
      "id": "b719e621",
      "metadata": {
        "id": "b719e621"
      },
      "outputs": [],
      "source": [
        "def costFunction(theta, X, y):\n",
        "    # Inicializar algunos valores utiles\n",
        "    m = y.size  # numero de ejemplos de entrenamiento\n",
        "\n",
        "    J = 0\n",
        "    grad = np.zeros(theta.shape)\n",
        "\n",
        "    h = sigmoid(X.dot(theta.T))\n",
        "    \n",
        "    J = (1 / m) * np.sum(-y.dot(np.log(h)) - (1 - y).dot(np.log(1 - h)))\n",
        "    grad = (1 / m) * (h - y).dot(X)\n",
        "    \n",
        "    return J, grad"
      ]
    },
    {
      "cell_type": "code",
      "execution_count": 92,
      "id": "5fa9e81d",
      "metadata": {
        "id": "5fa9e81d",
        "outputId": "6941f719-797b-4f00-8d5d-1e4f151adcdf",
        "colab": {
          "base_uri": "https://localhost:8080/"
        }
      },
      "outputs": [
        {
          "output_type": "stream",
          "name": "stdout",
          "text": [
            "[0. 0. 0. 0. 0. 0. 0. 0. 0. 0. 0.]\n",
            "Costo en theta inicial (zeros): 0.693\n",
            "Costo esperado (aproximado): 0.693\n",
            "\n",
            "[-1.16902000e-01 -2.40365895e-05 -2.99832256e-03  1.50735953e-04\n",
            " -1.32330070e-03 -9.23498532e-04 -1.92021997e-03  8.94560015e-04\n",
            " -2.32845096e-03  1.17102965e-03 -1.23992665e-03]\n",
            "Gradiente en theta inicial (zeros):\n",
            "\t[-0.1169, -0.0000, -0.0030]\n",
            "Gradiente esperado (aproximado):\n",
            "\t[-0.1000, -12.0092, -11.2628]\n",
            "\n"
          ]
        }
      ],
      "source": [
        "# Inicializacion de parametros de ajuste\n",
        "initial_theta = np.zeros(11)\n",
        "print(initial_theta)\n",
        "cost, grad = costFunction(initial_theta, X, y)\n",
        "\n",
        "print('Costo en theta inicial (zeros): {:.3f}'.format(cost))\n",
        "print('Costo esperado (aproximado): 0.693\\n')\n",
        "print(grad)\n",
        "print('Gradiente en theta inicial (zeros):')\n",
        "print('\\t[{:.4f}, {:.4f}, {:.4f}]'.format(*grad))\n",
        "print('Gradiente esperado (aproximado):\\n\\t[-0.1000, -12.0092, -11.2628]\\n')"
      ]
    },
    {
      "cell_type": "code",
      "execution_count": 93,
      "id": "d76b54b7",
      "metadata": {
        "id": "d76b54b7",
        "outputId": "4782d82c-5708-40c5-8bcb-0a65d64b3654",
        "colab": {
          "base_uri": "https://localhost:8080/"
        }
      },
      "outputs": [
        {
          "output_type": "stream",
          "name": "stdout",
          "text": [
            "[ 1  1  1  1 13  2  4  2  3  1 12]\n",
            "Costo en theta prueba: nan\n",
            "Costo esperado (aproximado): 0.218\n",
            "\n",
            "Gradiente en theta prueba:\n",
            "Gradiente esperado (aproximado):\n",
            "\t[0.043, 2.566, 2.647]\n"
          ]
        },
        {
          "output_type": "stream",
          "name": "stderr",
          "text": [
            "<ipython-input-91-1a3084f56ce3>:10: RuntimeWarning: divide by zero encountered in log\n",
            "  J = (1 / m) * np.sum(-y.dot(np.log(h)) - (1 - y).dot(np.log(1 - h)))\n"
          ]
        }
      ],
      "source": [
        "# Calcula y muestra el costo y el gradiente con valores de theta diferentes a cero\n",
        "\n",
        "test_theta = np.array([1,1,1,1,13,2,4,2,3,1,12])\n",
        "#test_theta = np.array([-11.74749157, 0.09927308, 0.09316497])\n",
        "print(test_theta)\n",
        "cost, grad = costFunction(test_theta, X, y)\n",
        "\n",
        "print('Costo en theta prueba: {:.12f}'.format(cost))\n",
        "print('Costo esperado (aproximado): 0.218\\n')\n",
        "\n",
        "print('Gradiente en theta prueba:')\n",
        "#print('\\t[{:.12f}, {:.12f}, {:.12f},{:.12f}, {:.12f}, {:.12f},{:.12f}, {:.12f}, {:.12f},{:.12f}, {:.12f}, {:.12f}]'.format(*grad))\n",
        "print('Gradiente esperado (aproximado):\\n\\t[0.043, 2.566, 2.647]')"
      ]
    },
    {
      "cell_type": "code",
      "execution_count": 94,
      "id": "ddf6cdae",
      "metadata": {
        "id": "ddf6cdae",
        "outputId": "bf644660-10af-436b-adf2-8a6ae408a2ea",
        "colab": {
          "base_uri": "https://localhost:8080/"
        }
      },
      "outputs": [
        {
          "output_type": "stream",
          "name": "stdout",
          "text": [
            "Costo con un valor de theta encontrado por optimize.minimize: 0.665505309557\n",
            "Costo esperado (aproximado): 0.203\n",
            "\n",
            "theta:\n",
            "Theta esperado (aproximado):\n",
            "\t[-25.161, 0.206, 0.201,0.206, 0.201,0.206, 0.201,0.206, 0.201,0.206, 0.201,0.206]\n"
          ]
        }
      ],
      "source": [
        "# Establecer las opciones para optimize.minimize\n",
        "options= {'maxiter': 1000}\n",
        "\n",
        "# revisar la documentacion de scipy's optimize.minimize para mayor descripcion de los parametros\n",
        "# La funcion devuekve un objeto `OptimizeResult`\n",
        "# Se utiliza el algoritmo de Newton truncado para la optimización.\n",
        "res = optimize.minimize(costFunction,\n",
        "                        initial_theta,\n",
        "                        (X, y),\n",
        "                        jac=True,\n",
        "                        method='TNC',\n",
        "                        options=options)\n",
        "\n",
        "# la propiedad fun del objeto devuelto por `OptimizeResult`\n",
        "# contiene el valor del costFunction de un theta optimizado\n",
        "cost = res.fun\n",
        "\n",
        "# Theta optimizada esta en la propiedad x\n",
        "theta = res.x\n",
        "\n",
        "# Imprimir theta en la pantalla\n",
        "print('Costo con un valor de theta encontrado por optimize.minimize: {:.12f}'.format(cost))\n",
        "print('Costo esperado (aproximado): 0.203\\n');\n",
        "\n",
        "print('theta:')\n",
        "#print('\\t[{:.12f}, {:.12f}, {:.12f},{:.12f}, {:.12f}, {:.12f},{:.12f}, {:.12f}, {:.12f},{:.12f}, {:.12f}, {:.12f}]'.format(*theta))\n",
        "print('Theta esperado (aproximado):\\n\\t[-25.161, 0.206, 0.201,0.206, 0.201,0.206, 0.201,0.206, 0.201,0.206, 0.201,0.206]')"
      ]
    },
    {
      "cell_type": "code",
      "execution_count": 94,
      "id": "f9e15a5a",
      "metadata": {
        "id": "f9e15a5a"
      },
      "outputs": [],
      "source": []
    },
    {
      "cell_type": "code",
      "execution_count": 95,
      "id": "bda02f9d",
      "metadata": {
        "id": "bda02f9d"
      },
      "outputs": [],
      "source": [
        "##\n",
        "def predict(theta, X):\n",
        "   \n",
        "    m = X.shape[0] # Numero de ejemplo de entrenamiento\n",
        "\n",
        "    p = np.zeros(m)\n",
        "\n",
        "    p = np.round(sigmoid(X.dot(theta.T)))\n",
        "    return p"
      ]
    },
    {
      "cell_type": "code",
      "execution_count": 98,
      "id": "20316e59",
      "metadata": {
        "id": "20316e59",
        "outputId": "92053f22-d3e2-4e9e-b6b6-40fca9b2121d",
        "colab": {
          "base_uri": "https://localhost:8080/"
        }
      },
      "outputs": [
        {
          "output_type": "stream",
          "name": "stdout",
          "text": [
            "Valor esperado: 0.775 +/- 0.002\n",
            "\n",
            "Precisión de entrenamiento: 42.25 %\n",
            "Entre mayor porcentaje mayor sera la probabilidad de ganar mi mano de poker entre cero al 100% \n"
          ]
        }
      ],
      "source": [
        "#Predice la probabilidad de mano de poker de 5 cartas de 9 tipos de baraja en la mano\n",
        "#Entre mayor porcentaje mayor sera la probabilidad de ganar mi mano de poker entre cero al 100% \n",
        "\n",
        "prob = sigmoid(np.dot([1,1,1,1,13,2,4,2,3,1,12], theta))\n",
        "#El entrenamiento en Prueba sera sacar una mano de poker o ganada\n",
        "print('Valor esperado: 0.775 +/- 0.002\\n')\n",
        "\n",
        "# Computacion de entrenamiento\n",
        "p = predict(theta, X)\n",
        "print('Precisión de entrenamiento: {:.2f} %'.format(np.mean(p == y) * 100))\n",
        "print('Entre mayor porcentaje mayor sera la probabilidad de ganar mi mano de poker entre cero al 100% ')"
      ]
    },
    {
      "cell_type": "code",
      "execution_count": 96,
      "id": "e41050c2",
      "metadata": {
        "id": "e41050c2"
      },
      "outputs": [],
      "source": []
    }
  ],
  "metadata": {
    "kernelspec": {
      "display_name": "Python 3 (ipykernel)",
      "language": "python",
      "name": "python3"
    },
    "language_info": {
      "codemirror_mode": {
        "name": "ipython",
        "version": 3
      },
      "file_extension": ".py",
      "mimetype": "text/x-python",
      "name": "python",
      "nbconvert_exporter": "python",
      "pygments_lexer": "ipython3",
      "version": "3.9.7"
    },
    "colab": {
      "provenance": []
    }
  },
  "nbformat": 4,
  "nbformat_minor": 5
}